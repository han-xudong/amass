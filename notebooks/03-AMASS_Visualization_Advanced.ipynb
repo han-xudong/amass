{
 "cells": [
  {
   "cell_type": "markdown",
   "metadata": {},
   "source": [
    "# Animating Other Body Models With AMASS\n",
    "In the basic [AMASS visualization notebook](01-AMASS_Visualization.ipynb), we presented code snippets to animate AMASS bodies\n",
    "with [SMPL+H](http://mano.is.tue.mpg.de/) body model.\n",
    "However, we can use AMASS to also animate other SMPL family body models; namely:\n",
    "- Body only [SMPL](https://smpl.is.tue.mpg.de/)\n",
    "- Hand only [MANO](http://mano.is.tue.mpg.de/)\n",
    "- Expressive  Body, with Hands and Face [SMPL-X](https://smpl-x.is.tue.mpg.de/).\n",
    "\n",
    "AMASS uses [human_body_prior](https://github.com/nghorbani/human_body_prior) python package to animate bodies.\n",
    "The provided body model interface handles all SMPL body family models automatically and transparently.\n",
    "That means you can pass a SMPL family model to the BodyModel class and in the forward call pass desired body parameters from AMASS;\n",
    "e.g. load an instance of SMPL and only pass pose_body that won't articulate fingers.\n",
    "The rest will be taken care of automatically by the code.\n",
    "This tutorial shows a practical example to animate SMPL and SMPL-X bodies using AMASS."
   ]
  },
  {
   "cell_type": "code",
   "execution_count": null,
   "metadata": {},
   "outputs": [],
   "source": [
    "import torch\n",
    "import numpy as np\n",
    "\n",
    "from human_body_prior.tools.omni_tools import copy2cpu as c2c\n",
    "from os import path as osp\n",
    "\n",
    "support_dir = '../support_data/'"
   ]
  },
  {
   "cell_type": "code",
   "execution_count": null,
   "metadata": {},
   "outputs": [],
   "source": [
    "# Choose the device to run the body model on.\n",
    "comp_device = torch.device(\"cuda\" if torch.cuda.is_available() else \"cpu\")"
   ]
  },
  {
   "cell_type": "code",
   "execution_count": null,
   "metadata": {
    "pycharm": {
     "name": "#%%\n"
    }
   },
   "outputs": [],
   "source": [
    "amass_npz_fname = osp.join(support_dir, 'github_data/amass_sample.npz') # the path to body data\n",
    "bdata = np.load(amass_npz_fname)\n",
    "\n",
    "num_betas = 16 # number of body parameters\n",
    "num_dmpls = 8 # number of DMPL parameters\n",
    "\n",
    "# you can set the gender manually and if it differs from data's then contact or interpenetration issues might happen\n",
    "subject_gender = bdata['gender']\n",
    "\n",
    "print('Data keys available:%s'%list(bdata.keys()))\n",
    "\n",
    "print('The subject of the mocap sequence is  {}.'.format(subject_gender))"
   ]
  },
  {
   "cell_type": "code",
   "execution_count": null,
   "metadata": {
    "pycharm": {
     "name": "#%%\n"
    }
   },
   "outputs": [],
   "source": [
    "time_length = len(bdata['trans'])\n",
    "\n",
    "body_parms = {\n",
    "    'root_orient': torch.Tensor(bdata['poses'][:, :3]).to(comp_device), # controls the global root orientation\n",
    "    'pose_body': torch.Tensor(bdata['poses'][:, 3:66]).to(comp_device), # controls the body\n",
    "    'pose_hand': torch.Tensor(bdata['poses'][:, 66:]).to(comp_device), # controls the finger articulation\n",
    "    'trans': torch.Tensor(bdata['trans']).to(comp_device), # controls the global body position\n",
    "    'betas': torch.Tensor(np.repeat(bdata['betas'][:num_betas][np.newaxis], repeats=time_length, axis=0)).to(comp_device), # controls the body shape. Body shape is static\n",
    "    'dmpls': torch.Tensor(bdata['dmpls'][:, :num_dmpls]).to(comp_device) # controls soft tissue dynamics\n",
    "}\n",
    "\n",
    "print('Body parameter vector shapes: \\n{}'.format(' \\n'.join(['{}: {}'.format(k,v.shape) for k,v in body_parms.items()])))\n",
    "print('time_length = {}'.format(time_length))"
   ]
  },
  {
   "cell_type": "code",
   "execution_count": null,
   "metadata": {
    "pycharm": {
     "name": "#%%\n"
    }
   },
   "outputs": [],
   "source": [
    "import trimesh\n",
    "from body_visualizer.tools.vis_tools import colors\n",
    "from body_visualizer.mesh.mesh_viewer import MeshViewer\n",
    "from body_visualizer.tools.vis_tools import show_image\n",
    "\n",
    "imw, imh = 1600, 1600\n",
    "mv = MeshViewer(width=imw, height=imh, use_offscreen=True)\n",
    "\n",
    "## SMPL-X"
   ]
  },
  {
   "cell_type": "markdown",
   "metadata": {},
   "source": [
    "## AMASS for SMPL\n",
    "First download [SMPL](https://smpl.is.tue.mpg.de/) body model and extract it to a desired location.\n",
    "The PCA shape space of SMPL and SMPL+H are compatible, so betas and DMPLs can be used interchangeably.\n",
    "Of course SMPL model does not support hand articulation, unlike SMPL+H. Hence, we cannot animate fingers of SMPL using AMASS."
   ]
  },
  {
   "cell_type": "code",
   "execution_count": null,
   "metadata": {},
   "outputs": [],
   "source": [
    "from human_body_prior.body_model.body_model import BodyModel\n",
    "\n",
    "bm_smpl_fname = osp.join(support_dir, 'body_models/smpl/{}/model.npz'.format(subject_gender))\n",
    "# bm_smpl_fname = '/is/ps3/nghorbani/code-repos/amass/support_data/body_models/smpl/neutral/model.npz'\n",
    "\n",
    "bm = BodyModel(bm_fname=bm_smpl_fname, num_betas=num_betas).to(comp_device)\n",
    "\n",
    "faces = c2c(bm.f)\n",
    "num_verts = bm.init_v_template.shape[1]"
   ]
  },
  {
   "cell_type": "code",
   "execution_count": null,
   "metadata": {
    "pycharm": {
     "name": "#%%\n"
    }
   },
   "outputs": [],
   "source": [
    "print({k:v.shape for k,v in body_parms.items() if k in ['pose_body', 'betas']})\n",
    "body = bm(**{k:v.to(comp_device) for k,v in body_parms.items() if k in ['pose_body']})\n",
    "body_mesh_wofingers = trimesh.Trimesh(vertices=c2c(body.v[0]), faces=faces, vertex_colors=np.tile(colors['grey'], (num_verts, 1)))\n",
    "mv.set_static_meshes([body_mesh_wofingers])\n",
    "body_image_wofingers = mv.render(render_wireframe=False)\n",
    "show_image(body_image_wofingers)"
   ]
  },
  {
   "cell_type": "markdown",
   "metadata": {},
   "source": [
    "Notice the flat hands due to inability of SMPL to articulate fingers. Due to this fact, we didn't pass pose_hand parameters neither."
   ]
  },
  {
   "cell_type": "markdown",
   "metadata": {},
   "source": [
    "## AMASS for SMPL-X\n",
    "First obtain [SMPL-X](https://smpl-x.is.tue.mpg.de) body model and extract it at a desired location.\n",
    "The PCA shape space of SMPL-X and SMPL+H do not correspond, so we cannot use the shape,\n",
    "i.e. betas, nor the soft tissue dynamics, i.e. DMPLs, from AMASS on SMPL-X.\n",
    "However,  we can still pose the body model using AMASS parameters.\n",
    "SMPL-X has more joints than the SMPLH model because of the eye balls and jaw joints, hence we cannot animate jaw and eye balls using AMASS."
   ]
  },
  {
   "cell_type": "code",
   "execution_count": null,
   "metadata": {
    "pycharm": {
     "name": "#%%\n"
    }
   },
   "outputs": [],
   "source": [
    "from human_body_prior.body_model.body_model import BodyModel\n",
    "\n",
    "bm_smplx_fname = osp.join(support_dir, 'body_models/smplx/{}/model.npz'.format(subject_gender))\n",
    "\n",
    "bm = BodyModel(bm_fname=bm_smplx_fname, num_betas=num_betas).to(comp_device)\n",
    "\n",
    "faces = c2c(bm.f)\n",
    "num_verts = bm.init_v_template.shape[1]"
   ]
  },
  {
   "cell_type": "code",
   "execution_count": null,
   "metadata": {},
   "outputs": [],
   "source": [
    "print({k:v.shape for k,v in body_parms.items() if k in ['pose_body', 'pose_hand', 'betas']})\n",
    "body = bm(**{k:v.to(comp_device) for k,v in body_parms.items() if k in ['pose_body', 'pose_hand']})\n",
    "body_mesh_wfingers = trimesh.Trimesh(vertices=c2c(body.v[0]), faces=faces, vertex_colors=np.tile(colors['grey'], (num_verts, 1)))\n",
    "mv.set_static_meshes([body_mesh_wfingers])\n",
    "body_image_wfingers = mv.render(render_wireframe=False)\n",
    "show_image(body_image_wfingers)"
   ]
  },
  {
   "cell_type": "markdown",
   "metadata": {},
   "source": [
    "You won't see a perfect match with original SMPL+H body because the shape is not taken into account with the above body.\n",
    "SMPL+H and SMPLx body parameters are not fully compatible.\n",
    "For next releases of AMASS we intend to include more model types from SMPL family."
   ]
  }
 ],
 "metadata": {
  "kernelspec": {
   "display_name": "amass",
   "language": "python",
   "name": "python3"
  },
  "language_info": {
   "codemirror_mode": {
    "name": "ipython",
    "version": 3
   },
   "file_extension": ".py",
   "mimetype": "text/x-python",
   "name": "python",
   "nbconvert_exporter": "python",
   "pygments_lexer": "ipython3",
   "version": "3.9.23"
  }
 },
 "nbformat": 4,
 "nbformat_minor": 2
}
